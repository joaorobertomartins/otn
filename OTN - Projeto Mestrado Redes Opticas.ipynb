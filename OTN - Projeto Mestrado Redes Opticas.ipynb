{
    "cells": [
        {
            "metadata": {},
            "cell_type": "code",
            "source": "# PROJETO OTN\n\nset N;  # n\u00f3s da rede\nset E within (N cross N);\nset D within (N cross N);\nset L within (N cross N);\nset LXE:= D cross L;\nset DXD:= D cross D;\nset DXE:= D cross E;\nset M;\nset DXM:= D cross M;\nset R;\nset DXR:= D cross R;\nset DXEXR:= D cross E cross R;\nset DXMXR:= D cross M cross R;\nset DXRXDXR:= D cross R cross D cross R;\nset LXEXR:= D cross L cross R;\nset LXEXRXE:= L cross L cross E cross R;\nset LXR:= D cross R;\n\n\n#par\u00e2metros\n\nparam gamacem{(s,d,x) in LXR} binary;         # indica se \u00e9 100\nparam gamadez{(s,d,x) in LXR} binary;          # indica se \u00e9 10\nparam VV{(s,d,x) in LXR}>=0;                        #Traffic demand from node s to node d on type k\nparam LBcem{(i,j) in L} binary;                      #indica se o link bundle \u00e9 100\nparam LBdez{(i,j) in L} binary;                       #indica se o link bundle \u00e9 10\nparam c1:=1;\t\t\t# custo da interface de 10\nparam c2:=6;                                             # custo da interface de 100\nparam H:=1000;                                            #A large number H\n\n\n\n# vari\u00e1veis\n\nvar FF{(s,d,i,j,x) in LXEXR} >= 0;\nvar B{(s,d,i,j,x) in LXEXR} binary; \nvar V{(i,j) in L}>=0;                                           \nvar Idez{(i,j) in L} integer>=0 ;                                         # num de intercafes de 10;\nvar Icem{(i,j) in L} integer >=0;                                         # num de interfaces de 100;\nvar total>=0;                                                          #fun\u00e7\u00e3o objetivo\n\n\n\nminimize  F_OBJETIVO: total;\n\n\n#constratint 1\nsubject to restri\u00e7\u00e3o1 {i in N, (s,d) in D, x in R}: #--14\nsum{(s,d,i,j) in LXE}FF[s,d,i,j,x] - sum{(s,d,j,i) in LXE}FF[s,d,j,i,x] =\n(if s = i  then VV[s,d,x]\n else if  d = i then -VV[s,d,x]\n      else 0);\n\n#constratint 2\nsubject to restri\u00e7\u00e3o2 {(s,d,i,j,x) in LXEXR}: #--16\nFF[s,d,i,j,x]gamacem[s,d,x](1-LBcem[i,j])=0;\n\n#constratint 3\nsubject to restri\u00e7\u00e3o3 {(s,d,i,j,x) in LXEXR}: #--16\nFF[s,d,i,j,x]gamadez[s,d,x](1-LBdez[i,j])*(1-LBcem[i,j])=0;\n                   \n#constratint 4\nsubject to restri\u00e7\u00e3o4 {(i,j) in L}:\nV[i,j] = sum{(s,d) in D,  x in R}FF[s,d,i,j,x];\n\n#constratint 5\nsubject to restri\u00e7\u00e3o5{(s,d,i,j,x) in LXEXR}: #--16\nB[s,d,i,j,x] >= FF[s,d,i,j,x]/H;\n\n#constratint 6\nsubject to restri\u00e7\u00e3o6 {(s,d) in D,(i,j) in L,(i,k) in L diff{(i,j)}, x in R}: #--17\nB[s,d,i,j,x]+B[s,d,i,k,x]<=1;\n\n#constratint 7\nsubject to restri\u00e7\u00e3o7 {(i,j) in L}: #--17\n(10*LBdez[i,j]*Idez[i,j])+(100*LBcem[i,j]*Icem[i,j])>= V[i,j];\n\n#constratint8\nsubject to restri\u00e7\u00e3o8: #--17\nsum{(i,j) in L}(Idez[i,j]*c1+Icem[i,j]*c2)<= total;\n\n\n",
            "execution_count": 3,
            "outputs": [
                {
                    "output_type": "error",
                    "ename": "SyntaxError",
                    "evalue": "invalid syntax (<ipython-input-3-f88aa2405893>, line 3)",
                    "traceback": [
                        "\u001b[0;36m  File \u001b[0;32m\"<ipython-input-3-f88aa2405893>\"\u001b[0;36m, line \u001b[0;32m3\u001b[0m\n\u001b[0;31m    set N;  # n\u00f3s da rede\u001b[0m\n\u001b[0m        ^\u001b[0m\n\u001b[0;31mSyntaxError\u001b[0m\u001b[0;31m:\u001b[0m invalid syntax\n"
                    ]
                }
            ]
        },
        {
            "metadata": {},
            "cell_type": "code",
            "source": "",
            "execution_count": null,
            "outputs": []
        }
    ],
    "metadata": {
        "kernelspec": {
            "name": "python3",
            "display_name": "Python 3.7",
            "language": "python"
        },
        "language_info": {
            "name": "python",
            "version": "3.7.9",
            "mimetype": "text/x-python",
            "codemirror_mode": {
                "name": "ipython",
                "version": 3
            },
            "pygments_lexer": "ipython3",
            "nbconvert_exporter": "python",
            "file_extension": ".py"
        }
    },
    "nbformat": 4,
    "nbformat_minor": 1
}